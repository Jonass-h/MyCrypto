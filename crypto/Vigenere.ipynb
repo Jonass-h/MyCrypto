{
 "cells": [
  {
   "cell_type": "code",
   "execution_count": 149,
   "id": "humanitarian-major",
   "metadata": {},
   "outputs": [],
   "source": [
    "import time\n",
    "import statistics"
   ]
  },
  {
   "cell_type": "code",
   "execution_count": 150,
   "id": "equipped-wilson",
   "metadata": {},
   "outputs": [],
   "source": [
    "def Chifrement(path_2_file,key): \n",
    "    file = open(path_2_file, \"r\")\n",
    "    text=[]\n",
    "    key_stream=[]\n",
    "    #key stream generation\n",
    "    for line in file:\n",
    "        for character in line:\n",
    "            text.append(character)\n",
    "    k=0\n",
    "    for i in range(len(text)) :\n",
    "        if(ord(text[i]) in range(65,90) or ord(text[i]) in range(97,122)):\n",
    "            k=(k+1)%len(key)\n",
    "            key_stream.append(key[k])\n",
    "        else :\n",
    "            key_stream.append(\" \")\n",
    "    #print(key_stream)\n",
    "    #end of key stream generation      \n",
    "    result = \"\" \n",
    "    # traverse text \n",
    "    for i in range(len(text)): \n",
    "        char = text[i] \n",
    "        init=97\n",
    "        # Encrypt characters \n",
    "        if(ord(char) in range(65,90) or ord(char) in range(97,122)  ):\n",
    "            if (char.isupper()): \n",
    "                init=65\n",
    "            result += chr( (  ord(char)-init+ord(key_stream[i])-init )%26 + init) \n",
    "        else :\n",
    "            result +=char\n",
    "  \n",
    "    return result "
   ]
  },
  {
   "cell_type": "code",
   "execution_count": 151,
   "id": "parliamentary-peripheral",
   "metadata": {},
   "outputs": [],
   "source": [
    "#print(Chifrement(\"./test\",\"a\"))"
   ]
  },
  {
   "cell_type": "code",
   "execution_count": 152,
   "id": "unique-processor",
   "metadata": {},
   "outputs": [],
   "source": [
    "def Dechifrement(crypte,key): \n",
    "    #file = open(path_2_file, \"r\")\n",
    "    #text=[]\n",
    "    key_stream=[]\n",
    "    #key stream generation\n",
    "    #for line in file:\n",
    "    #    for character in line:\n",
    "    #        text.append(character)\n",
    "    k=0\n",
    "    for i in range(len(crypte)) :\n",
    "        if(ord(crypte[i]) in range(65,90) or ord(crypte[i]) in range(97,122)):\n",
    "            key_stream.append(key[k%len(key)])\n",
    "            k+=1\n",
    "        else :\n",
    "            key_stream.append(\" \")\n",
    "    #print(key_stream)\n",
    "    #end of key stream generation      \n",
    "    result = \"\" \n",
    "    # traverse text \n",
    "    for i in range(len(crypte)): \n",
    "        char = crypte[i] \n",
    "        init=97\n",
    "        # Encrypt characters \n",
    "        if(char.isalpha()  ):\n",
    "            if (char.isupper()): \n",
    "                init=65\n",
    "            result += chr( (  ord(char)-ord(key_stream[i])+26)%26 + init) \n",
    "        else :\n",
    "            result +=char\n",
    "  \n",
    "    return result "
   ]
  },
  {
   "cell_type": "code",
   "execution_count": 153,
   "id": "choice-durham",
   "metadata": {},
   "outputs": [],
   "source": [
    "#print(Dechifrement(\"./test\",\"c\"))"
   ]
  },
  {
   "cell_type": "code",
   "execution_count": 154,
   "id": "latin-crest",
   "metadata": {},
   "outputs": [],
   "source": [
    "import sys\n",
    "\n",
    "if __name__ == \"__main__\":\n",
    "    #print(f\"Arguments count: {len(sys.argv)}\")\n",
    "    if(len(sys.argv)==2) :\n",
    "        if(sys.argv[1]==\"-c\"):\n",
    "                print(\"encrypting ... \")\n",
    "                textt=input(\"chemin du text clair = \")\n",
    "                kk=input(\"key = \")\n",
    "                print(Chifrement(textt,kk))\n",
    "        elif(sys.argv[1]==\"-d\"):\n",
    "                print(\"decrypting ... \")\n",
    "                textt=input(\"chemin du text chifré = \")\n",
    "                kk=input(\"key = \")\n",
    "                print(Dechifrement(textt,kk))\n",
    "        else:\n",
    "                print(\"hello\")\n",
    "                #generateDictionary()"
   ]
  },
  {
   "cell_type": "code",
   "execution_count": 155,
   "id": "secret-stake",
   "metadata": {},
   "outputs": [],
   "source": [
    "def generateDictionary():\n",
    "    result1=[]\n",
    "    result2=[]\n",
    "    result3=[]\n",
    "    result4=[]\n",
    "    for i in range(26):\n",
    "        result1.append(chr(i+97))\n",
    "    for i in range(26):\n",
    "        for j in range(26):\n",
    "            result2.append(chr(i+97)+chr(j+97))\n",
    "    for i in range(26):\n",
    "        for j in range(26):\n",
    "            for k in range(26):\n",
    "                result3.append(chr(i+97)+chr(j+97)+chr(k+97))\n",
    "    for i in range(26):\n",
    "        for j in range(26):\n",
    "            for k in range(26):\n",
    "                for l in range(26):\n",
    "                    result4.append(chr(i+97)+chr(j+97)+chr(k+97)+chr(l+97))\n",
    "    return result1+result2+result3+result4"
   ]
  },
  {
   "cell_type": "code",
   "execution_count": 156,
   "id": "vocational-infection",
   "metadata": {},
   "outputs": [],
   "source": [
    "def BruteForce(crypte): \n",
    "    dictt=generateDictionary()\n",
    "    text=[]\n",
    "    key_stream=[]\n",
    "    notFound=True\n",
    "    ind=0\n",
    "    start=time.time()\n",
    "    \n",
    "    outputKey=\"\"\n",
    "    outputText=\"\"\n",
    "    outputTime=0\n",
    "    \n",
    "    ind=0\n",
    "    while notFound and ind<len(dictt) :\n",
    "        key=dictt[ind]\n",
    "        ind=ind+1\n",
    "        result=Dechifrement(crypte,key)\n",
    "        if (result.find('second') != -1):\n",
    "            outputKey=key\n",
    "            print(key)\n",
    "            outputText=result\n",
    "            outputTime=time.time()-start\n",
    "            notFound=False\n",
    "  \n",
    "    return outputKey, outputText,outputTime"
   ]
  },
  {
   "cell_type": "code",
   "execution_count": 157,
   "id": "assigned-needle",
   "metadata": {},
   "outputs": [],
   "source": [
    "#BruteForce(\"icbjxohxrohlubgwnwglymcxxgsfubrkgqyltumraofhhsqrswbjgufhghvdiysu\")"
   ]
  },
  {
   "cell_type": "code",
   "execution_count": 158,
   "id": "veterinary-overhead",
   "metadata": {},
   "outputs": [],
   "source": [
    "def posFreq(text,p):\n",
    "    alphabet_freq=[0]*26\n",
    "    i=0\n",
    "    while i < len(text):\n",
    "        init=97\n",
    "        if( text[i].isupper()):\n",
    "            init=65\n",
    "        alphabet_freq[ord(text[i])-init]+=1\n",
    "        i=i+p\n",
    "    return alphabet_freq "
   ]
  },
  {
   "cell_type": "code",
   "execution_count": 159,
   "id": "crucial-bread",
   "metadata": {},
   "outputs": [],
   "source": [
    "def inCoin(tab,N):\n",
    "    freqsum=0\n",
    "    for letter in range(26):\n",
    "        freqsum += tab[ letter ] * ( tab[ letter ] - 1 )\n",
    "    return freqsum / ( N*(N-1) )"
   ]
  },
  {
   "cell_type": "code",
   "execution_count": 166,
   "id": "coordinate-purse",
   "metadata": {},
   "outputs": [],
   "source": [
    "def probLength(path_2_file):\n",
    "    file = open(path_2_file, \"r\")\n",
    "    text=[]\n",
    "    for line in file:\n",
    "        for character in line:\n",
    "            if(character.isalpha()):\n",
    "                text.append(character) \n",
    "    indiceCoin=[1,1,1,1]\n",
    "    # len=1\n",
    "    indiceCoin[0]=inCoin(posFreq(text,1),len(text))\n",
    "    # len=2\n",
    "    temp=[inCoin(posFreq(text,1),len(text)),inCoin(posFreq(text,2),len(text))]\n",
    "    indiceCoin[1]=statistics.mean(temp)\n",
    "    # len=3\n",
    "    temp=[inCoin(posFreq(text,1),len(text)),inCoin(posFreq(text,2),len(text)),inCoin(posFreq(text,3),len(text))]\n",
    "    indiceCoin[2]=statistics.mean(temp)\n",
    "    # len=4\n",
    "    temp=[inCoin(posFreq(text,1),len(text)),inCoin(posFreq(text,2),len(text)),inCoin(posFreq(text,3),len(text)),inCoin(posFreq(text,4),len(text))]\n",
    "    indiceCoin[3]= statistics.mean(temp)\n",
    "    #max\n",
    "    print(1+indiceCoin.index(max(indiceCoin)))\n",
    "    return 1+indiceCoin.index(max(indiceCoin)) \n"
   ]
  },
  {
   "cell_type": "code",
   "execution_count": 182,
   "id": "seeing-extension",
   "metadata": {},
   "outputs": [],
   "source": [
    "def Analyse_Freq(path_2_file,p):\n",
    "    file = open(path_2_file, \"r\")\n",
    "    text=[]\n",
    "    for line in file:\n",
    "        for character in line:\n",
    "            if(ord(character) in range(65,90) or ord(character) in range(97,122) ):\n",
    "                text.append(character)\n",
    "    ######\n",
    "    alphabet_freq=[0]*26\n",
    "    i=0\n",
    "    while i<len(text):\n",
    "        init=97\n",
    "        if( text[i].isupper()):\n",
    "            init=65\n",
    "        alphabet_freq[ord(text[i])-init]+=1\n",
    "        i=i+p\n",
    "    \n",
    "    mmax=alphabet_freq.index(max(alphabet_freq))\n",
    "    shift=mmax-4\n",
    "    if(shift<0):\n",
    "        shift=shift+26\n",
    "    return shift"
   ]
  },
  {
   "cell_type": "code",
   "execution_count": 183,
   "id": "lesbian-smith",
   "metadata": {},
   "outputs": [],
   "source": [
    "def find_Key(path):\n",
    "    N=probLength(path)\n",
    "    key=[1]*N\n",
    "    for i in range(N):\n",
    "        key[i]=chr(Analyse_Freq(path,i+1))\n",
    "    return key"
   ]
  },
  {
   "cell_type": "code",
   "execution_count": 184,
   "id": "fabulous-blind",
   "metadata": {},
   "outputs": [
    {
     "name": "stdout",
     "output_type": "stream",
     "text": [
      "1\n"
     ]
    },
    {
     "data": {
      "text/plain": [
       "['\\x04']"
      ]
     },
     "execution_count": 184,
     "metadata": {},
     "output_type": "execute_result"
    }
   ],
   "source": [
    "find_Key(\"./TextChiffe.txt\")"
   ]
  },
  {
   "cell_type": "code",
   "execution_count": 187,
   "id": "tutorial-bobby",
   "metadata": {},
   "outputs": [],
   "source": [
    "def get_key(ciphertext, key_length):\n",
    "\tkey = ''\n",
    "\n",
    "\t# Calculate letter frequency table for each letter of the key\n",
    "\tfor i in range(key_length):\n",
    "\t\tsequence=\"\"\n",
    "\t\t# breaks the ciphertext into sequences\n",
    "\t\tfor j in range(0,len(ciphertext[i:]), key_length):\n",
    "\t\t\tsequence+=ciphertext[i+j]\n",
    "\t\tkey+=Analyse_Freq(sequence,1)\n",
    "\n",
    "\treturn key"
   ]
  },
  {
   "cell_type": "code",
   "execution_count": 190,
   "id": "heated-competition",
   "metadata": {},
   "outputs": [
    {
     "ename": "FileNotFoundError",
     "evalue": "[Errno 2] No such file or directory: '.eCf.t'",
     "output_type": "error",
     "traceback": [
      "\u001b[1;31m---------------------------------------------------------------------------\u001b[0m",
      "\u001b[1;31mFileNotFoundError\u001b[0m                         Traceback (most recent call last)",
      "\u001b[1;32m<ipython-input-190-cca0be63e1fa>\u001b[0m in \u001b[0;36m<module>\u001b[1;34m\u001b[0m\n\u001b[1;32m----> 1\u001b[1;33m \u001b[0mget_key\u001b[0m\u001b[1;33m(\u001b[0m\u001b[1;34m\"./TextChiffe.txt\"\u001b[0m\u001b[1;33m,\u001b[0m\u001b[1;36m3\u001b[0m\u001b[1;33m)\u001b[0m\u001b[1;33m\u001b[0m\u001b[1;33m\u001b[0m\u001b[0m\n\u001b[0m",
      "\u001b[1;32m<ipython-input-187-2fce58c00f64>\u001b[0m in \u001b[0;36mget_key\u001b[1;34m(ciphertext, key_length)\u001b[0m\n\u001b[0;32m      8\u001b[0m                 \u001b[1;32mfor\u001b[0m \u001b[0mj\u001b[0m \u001b[1;32min\u001b[0m \u001b[0mrange\u001b[0m\u001b[1;33m(\u001b[0m\u001b[1;36m0\u001b[0m\u001b[1;33m,\u001b[0m\u001b[0mlen\u001b[0m\u001b[1;33m(\u001b[0m\u001b[0mciphertext\u001b[0m\u001b[1;33m[\u001b[0m\u001b[0mi\u001b[0m\u001b[1;33m:\u001b[0m\u001b[1;33m]\u001b[0m\u001b[1;33m)\u001b[0m\u001b[1;33m,\u001b[0m \u001b[0mkey_length\u001b[0m\u001b[1;33m)\u001b[0m\u001b[1;33m:\u001b[0m\u001b[1;33m\u001b[0m\u001b[1;33m\u001b[0m\u001b[0m\n\u001b[0;32m      9\u001b[0m                         \u001b[0msequence\u001b[0m\u001b[1;33m+=\u001b[0m\u001b[0mciphertext\u001b[0m\u001b[1;33m[\u001b[0m\u001b[0mi\u001b[0m\u001b[1;33m+\u001b[0m\u001b[0mj\u001b[0m\u001b[1;33m]\u001b[0m\u001b[1;33m\u001b[0m\u001b[1;33m\u001b[0m\u001b[0m\n\u001b[1;32m---> 10\u001b[1;33m                 \u001b[0mkey\u001b[0m\u001b[1;33m+=\u001b[0m\u001b[0mAnalyse_Freq\u001b[0m\u001b[1;33m(\u001b[0m\u001b[0msequence\u001b[0m\u001b[1;33m,\u001b[0m\u001b[1;36m1\u001b[0m\u001b[1;33m)\u001b[0m\u001b[1;33m\u001b[0m\u001b[1;33m\u001b[0m\u001b[0m\n\u001b[0m\u001b[0;32m     11\u001b[0m \u001b[1;33m\u001b[0m\u001b[0m\n\u001b[0;32m     12\u001b[0m         \u001b[1;32mreturn\u001b[0m \u001b[0mkey\u001b[0m\u001b[1;33m\u001b[0m\u001b[1;33m\u001b[0m\u001b[0m\n",
      "\u001b[1;32m<ipython-input-182-4fcbcc95db90>\u001b[0m in \u001b[0;36mAnalyse_Freq\u001b[1;34m(path_2_file, p)\u001b[0m\n\u001b[0;32m      1\u001b[0m \u001b[1;32mdef\u001b[0m \u001b[0mAnalyse_Freq\u001b[0m\u001b[1;33m(\u001b[0m\u001b[0mpath_2_file\u001b[0m\u001b[1;33m,\u001b[0m\u001b[0mp\u001b[0m\u001b[1;33m)\u001b[0m\u001b[1;33m:\u001b[0m\u001b[1;33m\u001b[0m\u001b[1;33m\u001b[0m\u001b[0m\n\u001b[1;32m----> 2\u001b[1;33m     \u001b[0mfile\u001b[0m \u001b[1;33m=\u001b[0m \u001b[0mopen\u001b[0m\u001b[1;33m(\u001b[0m\u001b[0mpath_2_file\u001b[0m\u001b[1;33m,\u001b[0m \u001b[1;34m\"r\"\u001b[0m\u001b[1;33m)\u001b[0m\u001b[1;33m\u001b[0m\u001b[1;33m\u001b[0m\u001b[0m\n\u001b[0m\u001b[0;32m      3\u001b[0m     \u001b[0mtext\u001b[0m\u001b[1;33m=\u001b[0m\u001b[1;33m[\u001b[0m\u001b[1;33m]\u001b[0m\u001b[1;33m\u001b[0m\u001b[1;33m\u001b[0m\u001b[0m\n\u001b[0;32m      4\u001b[0m     \u001b[1;32mfor\u001b[0m \u001b[0mline\u001b[0m \u001b[1;32min\u001b[0m \u001b[0mfile\u001b[0m\u001b[1;33m:\u001b[0m\u001b[1;33m\u001b[0m\u001b[1;33m\u001b[0m\u001b[0m\n\u001b[0;32m      5\u001b[0m         \u001b[1;32mfor\u001b[0m \u001b[0mcharacter\u001b[0m \u001b[1;32min\u001b[0m \u001b[0mline\u001b[0m\u001b[1;33m:\u001b[0m\u001b[1;33m\u001b[0m\u001b[1;33m\u001b[0m\u001b[0m\n",
      "\u001b[1;31mFileNotFoundError\u001b[0m: [Errno 2] No such file or directory: '.eCf.t'"
     ]
    }
   ],
   "source": [
    "get_key(\"./TextChiffe.txt\",3)"
   ]
  },
  {
   "cell_type": "code",
   "execution_count": null,
   "id": "waiting-cornell",
   "metadata": {},
   "outputs": [],
   "source": []
  }
 ],
 "metadata": {
  "kernelspec": {
   "display_name": "Python 3",
   "language": "python",
   "name": "python3"
  },
  "language_info": {
   "codemirror_mode": {
    "name": "ipython",
    "version": 3
   },
   "file_extension": ".py",
   "mimetype": "text/x-python",
   "name": "python",
   "nbconvert_exporter": "python",
   "pygments_lexer": "ipython3",
   "version": "3.8.8"
  }
 },
 "nbformat": 4,
 "nbformat_minor": 5
}
