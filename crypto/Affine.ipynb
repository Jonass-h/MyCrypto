{
 "cells": [
  {
   "cell_type": "code",
   "execution_count": 4,
   "metadata": {},
   "outputs": [],
   "source": [
    "def Chifrement_Affine(text,a,b): \n",
    "    result = \"\" \n",
    "    # traverse text \n",
    "    for i in range(len(text)): \n",
    "        char = text[i] \n",
    "        init=97\n",
    "        # Encrypt characters \n",
    "        if(ord(char) in range(65,90) or ord(char) in range(97,122)  ):\n",
    "            if (char.isupper()): \n",
    "                init=65\n",
    "            result += chr( ((ord(char)-init)*a+b)%26 + init) \n",
    "        else :\n",
    "            result +=char\n",
    "  \n",
    "    return result "
   ]
  },
  {
   "cell_type": "code",
   "execution_count": 5,
   "metadata": {},
   "outputs": [],
   "source": [
    "#print(Chifrement_Affine('abcd',1,1))"
   ]
  },
  {
   "cell_type": "code",
   "execution_count": 6,
   "metadata": {},
   "outputs": [],
   "source": [
    "def gcdExtended(a,b):\n",
    "    #Base Case\n",
    "    if (a == 0):\n",
    "        #print(b,\" 0 \",1 )\n",
    "        return [b,0,1]\n",
    "    # recurrent case\n",
    "    # [gcd,x,y]\n",
    "    else :\n",
    "        sub_call = gcdExtended(b % a, a);\n",
    "        x = sub_call[2] - (b // a) * sub_call[1]\n",
    "        y = sub_call[1]\n",
    "        #print(sub_call[0],\" \",sub_call[1],\" \",sub_call[2] )\n",
    "    return [sub_call[0],x,y]"
   ]
  },
  {
   "cell_type": "code",
   "execution_count": 7,
   "metadata": {},
   "outputs": [],
   "source": [
    "def modInverse( a,  m):\n",
    "    g = gcdExtended(a,m)\n",
    "    if (g[0] != 1) :\n",
    "        print(\"Inverse doesn't exist\")\n",
    "        return 0\n",
    "    else:\n",
    "        # m is added to handle negative x\n",
    "        return (g[1] % m + m) % m"
   ]
  },
  {
   "cell_type": "code",
   "execution_count": 8,
   "metadata": {},
   "outputs": [],
   "source": [
    "def Dehifrement_Affine(text,a,b): \n",
    "    result = \"\"\n",
    "    a_prime=modInverse(a,26)\n",
    "    #print(a_prime)\n",
    "    if(a_prime<=0):\n",
    "        return \" \"\n",
    "    # traverse text \n",
    "    for i in range(len(text)): \n",
    "        char = text[i] \n",
    "        init=97\n",
    "        # Encrypt characters \n",
    "        if(ord(char) in range(65,90) or ord(char) in range(97,122)  ):\n",
    "            #print(char,\"\\n\")\n",
    "            if (char.isupper()): \n",
    "                init=65\n",
    "            result += chr( ((ord(char)-init-b)*a_prime)%26+init) \n",
    "        else :\n",
    "            result +=char\n",
    "  \n",
    "    return result "
   ]
  },
  {
   "cell_type": "code",
   "execution_count": 9,
   "metadata": {},
   "outputs": [],
   "source": [
    "def BruteForce(text):\n",
    "    for i in range(24):\n",
    "        # i+1 : decallage\n",
    "        print(\" decallage de \",i+1)\n",
    "        print(Dehifrement_Affine(text,1,i+1))\n",
    "        print(\"################################\")\n",
    "        "
   ]
  },
  {
   "cell_type": "code",
   "execution_count": 10,
   "metadata": {
    "scrolled": true
   },
   "outputs": [
    {
     "name": "stdout",
     "output_type": "stream",
     "text": [
      " decallage de  1\n",
      "QcbufohizohwcbmcigiqqsggtizzmpfsozQsogsfqwdvsf\n",
      "################################\n",
      " decallage de  2\n",
      "PbatenghyngvbalbhfhpprffshyyloernzPrnfrepvcure\n",
      "################################\n",
      " decallage de  3\n",
      "OazsdmfgxmfuazkagegooqeergxxkndqmzOqmeqdoubtqd\n",
      "################################\n",
      " decallage de  4\n",
      "NzyrclefwletzyjzfdfnnpddqfwwjmcplzNpldpcntaspc\n",
      "################################\n",
      " decallage de  5\n",
      "MyxqbkdevkdsyxiyecemmoccpevvilbokzMokcobmszrob\n",
      "################################\n",
      " decallage de  6\n",
      "LxwpajcdujcrxwhxdbdllnbboduuhkanjzLnjbnalryqna\n",
      "################################\n",
      " decallage de  7\n",
      "KwvozibctibqwvgwcackkmaancttgjzmizKmiamzkqxpmz\n",
      "################################\n",
      " decallage de  8\n",
      "JvunyhabshapvufvbzbjjlzzmbssfiylhzJlhzlyjpwoly\n",
      "################################\n",
      " decallage de  9\n",
      "IutmxgzargzouteuayaiikyylarrehxkgzIkgykxiovnkx\n",
      "################################\n",
      " decallage de  10\n",
      "HtslwfyzqfyntsdtzxzhhjxxkzqqdgwjfzHjfxjwhnumjw\n",
      "################################\n",
      " decallage de  11\n",
      "GsrkvexypexmsrcsywyggiwwjyppcfviezGiewivgmtliv\n",
      "################################\n",
      " decallage de  12\n",
      "FrqjudwxodwlrqbrxvxffhvvixoobeuhdzFhdvhuflskhu\n",
      "################################\n",
      " decallage de  13\n",
      "EqpitcvwncvkqpaqwuweeguuhwnnadtgczEgcugtekrjgt\n",
      "################################\n",
      " decallage de  14\n",
      "DpohsbuvmbujpozpvtvddfttgvmmzcsfbzDfbtfsdjqifs\n",
      "################################\n",
      " decallage de  15\n",
      "CongratulationyousuccessfullybreazCeasercipher\n",
      "################################\n",
      " decallage de  16\n",
      "BnmfqzstkzshnmxntrtbbdrretkkxaqdzzBdzrdqbhogdq\n",
      "################################\n",
      " decallage de  17\n",
      "AmlepyrsjyrgmlwmsqsaacqqdsjjwzpcyzAcyqcpagnfcp\n",
      "################################\n",
      " decallage de  18\n",
      "ZlkdoxqrixqflkvlrprzzbppcriivyobxzZbxpbozfmebo\n",
      "################################\n",
      " decallage de  19\n",
      "YkjcnwpqhwpekjukqoqyyaoobqhhuxnawzYawoanyeldan\n",
      "################################\n",
      " decallage de  20\n",
      "XjibmvopgvodjitjpnpxxznnapggtwmzvzXzvnzmxdkczm\n",
      "################################\n",
      " decallage de  21\n",
      "WihalunofuncihsiomowwymmzoffsvlyuzWyumylwcjbyl\n",
      "################################\n",
      " decallage de  22\n",
      "VhgzktmnetmbhgrhnlnvvxllyneerukxtzVxtlxkvbiaxk\n",
      "################################\n",
      " decallage de  23\n",
      "UgfyjslmdslagfqgmkmuuwkkxmddqtjwszUwskwjuahzwj\n",
      "################################\n",
      " decallage de  24\n",
      "TfexirklcrkzfepfljlttvjjwlccpsivrzTvrjvitzgyvi\n",
      "################################\n"
     ]
    }
   ],
   "source": [
    "BruteForce(\"RdcvgpijapixdcndjhjrrthhujaanqgtpzRtphtgrxewtg\")"
   ]
  },
  {
   "cell_type": "code",
   "execution_count": 24,
   "metadata": {},
   "outputs": [],
   "source": [
    "def Analyse_Freq(path_2_file):\n",
    "    file = open(path_2_file, \"r\")\n",
    "    text=[]\n",
    "    for line in file:\n",
    "        for character in line:\n",
    "            if(ord(character) in range(65,90) or ord(character) in range(97,122)  ):\n",
    "                text.append(character)\n",
    "\n",
    "    alphabet_freq=[0]*26\n",
    "    for i in range(len(text)):\n",
    "        init=97\n",
    "        if( text[i].isupper()):\n",
    "            init=65\n",
    "        alphabet_freq[ord(text[i])-init]+=1\n",
    "    \n",
    "    mmax=alphabet_freq.index(max(alphabet_freq))\n",
    "    shift=mmax-4\n",
    "    if(shift<0):\n",
    "        shift=shift+26\n",
    "    return shift"
   ]
  },
  {
   "cell_type": "code",
   "execution_count": 25,
   "metadata": {},
   "outputs": [
    {
     "data": {
      "text/plain": [
       "9"
      ]
     },
     "execution_count": 25,
     "metadata": {},
     "output_type": "execute_result"
    }
   ],
   "source": [
    "Analyse_Freq(\"./TextChiffe.txt\")"
   ]
  },
  {
   "cell_type": "code",
   "execution_count": 25,
   "metadata": {},
   "outputs": [
    {
     "name": "stdout",
     "output_type": "stream",
     "text": [
      " no such args\n"
     ]
    }
   ],
   "source": [
    "import sys\n",
    "\n",
    "if __name__ == \"__main__\":\n",
    "    if(len(sys.argv)==2) :\n",
    "        if(sys.argv[1]==\"-c\"):\n",
    "                print(\"encrypting ... \")\n",
    "                #decallage=input(\"decallage = \")\n",
    "                textt=input(\"text clair = \")\n",
    "                print(Chifrement_Affine(textt,1,1))\n",
    "        elif(sys.argv[1]==\"-d\"):\n",
    "                print(\"decrypting ... \")\n",
    "                textt=input(\"text chiffré = \")\n",
    "                BruteForce(textt)\n",
    "        else:\n",
    "                print(\" arg error\")\n",
    "    else :\n",
    "        print(\" no such args\")"
   ]
  },
  {
   "cell_type": "code",
   "execution_count": null,
   "metadata": {},
   "outputs": [],
   "source": []
  },
  {
   "cell_type": "code",
   "execution_count": null,
   "metadata": {},
   "outputs": [],
   "source": []
  }
 ],
 "metadata": {
  "kernelspec": {
   "display_name": "Python 3",
   "language": "python",
   "name": "python3"
  },
  "language_info": {
   "codemirror_mode": {
    "name": "ipython",
    "version": 3
   },
   "file_extension": ".py",
   "mimetype": "text/x-python",
   "name": "python",
   "nbconvert_exporter": "python",
   "pygments_lexer": "ipython3",
   "version": "3.8.8"
  }
 },
 "nbformat": 4,
 "nbformat_minor": 4
}
