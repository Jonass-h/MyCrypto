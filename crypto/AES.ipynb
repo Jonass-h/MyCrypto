{
 "cells": [
  {
   "cell_type": "code",
   "execution_count": 16,
   "metadata": {},
   "outputs": [],
   "source": [
    "import os\n",
    "from Crypto.Cipher import AES\n",
    "import Padding\n",
    "from Crypto.Util.Padding import pad, unpad"
   ]
  },
  {
   "cell_type": "code",
   "execution_count": 19,
   "metadata": {},
   "outputs": [
    {
     "name": "stdout",
     "output_type": "stream",
     "text": [
      "b'Message clair hh  e16' 21\n",
      "b\"\\xa6Jh\\x10*H\\x7f\\xf3\\\\\\xaeYc\\x80\\xa2'I\\xfb\\xea\\x95\\xb9\\x1e\\x0bu\\x9d\\xfc\\xb7P \\xfe\\x93\\xd4J\"\n"
     ]
    }
   ],
   "source": [
    "# os.urandom(N) genere une sequence\n",
    "# de N octets aleatoire\n",
    "# cle de 16 octets (128 bits) aletoire\n",
    "cle_16_octet =os.urandom(16)\n",
    "#cree une instance AES avec une cle= \"cle16 octets AES\"\n",
    "#la taille de la cle == (16octets)\n",
    "objet_de_chiffrement=AES.new(cle_16_octet, AES. MODE_ECB)\n",
    "Message_claire=b\"Message clair hh  e16\"\n",
    "print(Message_claire, len(Message_claire))\n",
    "\n",
    "\n",
    "#chiffre le message claire\n",
    "contenu_chiffre=objet_de_chiffrement.encrypt(pad(Message_claire, AES.block_size))\n",
    "print(contenu_chiffre)"
   ]
  },
  {
   "cell_type": "code",
   "execution_count": 20,
   "metadata": {},
   "outputs": [
    {
     "name": "stdout",
     "output_type": "stream",
     "text": [
      "b'Message clair hh  e16'\n"
     ]
    }
   ],
   "source": [
    "#Dechiffre le message chiffre\n",
    "objet_de_chiffrement=AES.new(cle_16_octet, AES. MODE_ECB)\n",
    "\n",
    "Message_dech=unpad(objet_de_chiffrement.decrypt(contenu_chiffre), AES.block_size) \n",
    "print(Message_dech)"
   ]
  },
  {
   "cell_type": "code",
   "execution_count": null,
   "metadata": {},
   "outputs": [],
   "source": []
  }
 ],
 "metadata": {
  "kernelspec": {
   "display_name": "Python 3",
   "language": "python",
   "name": "python3"
  },
  "language_info": {
   "codemirror_mode": {
    "name": "ipython",
    "version": 3
   },
   "file_extension": ".py",
   "mimetype": "text/x-python",
   "name": "python",
   "nbconvert_exporter": "python",
   "pygments_lexer": "ipython3",
   "version": "3.8.5"
  }
 },
 "nbformat": 4,
 "nbformat_minor": 4
}
